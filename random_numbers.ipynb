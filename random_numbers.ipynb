{
 "cells": [
  {
   "cell_type": "code",
   "execution_count": 1,
   "metadata": {},
   "outputs": [],
   "source": [
    "#***********************************************************************************\n",
    "#6.1.4 - Generate Random Latitudes and Longitudes\n",
    "#***********************************************************************************"
   ]
  },
  {
   "cell_type": "code",
   "execution_count": 2,
   "metadata": {},
   "outputs": [],
   "source": [
    "#*****\n",
    "#6.1.4\n",
    "#*****\n",
    "# Import the random module.\n",
    "import random"
   ]
  },
  {
   "cell_type": "code",
   "execution_count": 3,
   "metadata": {},
   "outputs": [
    {
     "data": {
      "text/plain": [
       "20"
      ]
     },
     "execution_count": 3,
     "metadata": {},
     "output_type": "execute_result"
    }
   ],
   "source": [
    "#*****\n",
    "#6.1.4\n",
    "#*****\n",
    "#randint is short for \"random integer.\"\n",
    "\n",
    "random.randint(-90, 90)"
   ]
  },
  {
   "cell_type": "code",
   "execution_count": 4,
   "metadata": {},
   "outputs": [
    {
     "data": {
      "text/plain": [
       "0.09074651645677645"
      ]
     },
     "execution_count": 4,
     "metadata": {},
     "output_type": "execute_result"
    }
   ],
   "source": [
    "#*****\n",
    "#6.1.4\n",
    "#*****\n",
    "# Using the random() function, we can get a single floating-point decimal number between 0 and 1.0.\n",
    "\n",
    "random.random()"
   ]
  },
  {
   "cell_type": "code",
   "execution_count": 5,
   "metadata": {},
   "outputs": [
    {
     "data": {
      "text/plain": [
       "[-80.477298439618,\n",
       " -50.583546033777544,\n",
       " 24.79551296993923,\n",
       " -67.8778548213865,\n",
       " -18.08285772955932,\n",
       " 68.33405814940267,\n",
       " 19.437870250256328,\n",
       " 45.969504033391644,\n",
       " 35.70744512982556,\n",
       " 39.136699277768926]"
      ]
     },
     "execution_count": 5,
     "metadata": {},
     "output_type": "execute_result"
    }
   ],
   "source": [
    "#*****\n",
    "#6.1.4\n",
    "#*****\n",
    "\n",
    "x = 1\n",
    "latitudes = []\n",
    "while x < 11:\n",
    "    random_lat = random.randint(-90, 89) + random.random()\n",
    "    latitudes.append(random_lat)\n",
    "    x += 1\n",
    "\n",
    "latitudes"
   ]
  },
  {
   "cell_type": "code",
   "execution_count": 6,
   "metadata": {},
   "outputs": [
    {
     "data": {
      "text/plain": [
       "56"
      ]
     },
     "execution_count": 6,
     "metadata": {},
     "output_type": "execute_result"
    }
   ],
   "source": [
    "#*****\n",
    "#6.1.4\n",
    "#*****\n",
    "# For the randrange() function, there is an option to add a step parameter and set it equal to an integer, which will\n",
    "# generate increments of a given integer value, from the lower to the upper limit.\n",
    "\n",
    "random.randrange(-90, 90, step=1)"
   ]
  },
  {
   "cell_type": "code",
   "execution_count": 7,
   "metadata": {},
   "outputs": [
    {
     "data": {
      "text/plain": [
       "27"
      ]
     },
     "execution_count": 7,
     "metadata": {},
     "output_type": "execute_result"
    }
   ],
   "source": [
    "#*****\n",
    "#6.1.4\n",
    "#*****\n",
    "\n",
    "random.randrange(-90, 90, step=3)"
   ]
  },
  {
   "cell_type": "code",
   "execution_count": 8,
   "metadata": {},
   "outputs": [
    {
     "data": {
      "text/plain": [
       "16.049077250365855"
      ]
     },
     "execution_count": 8,
     "metadata": {},
     "output_type": "execute_result"
    }
   ],
   "source": [
    "#*****\n",
    "#6.1.4\n",
    "#*****\n",
    "# The uniform() function will allow us to generate a floating-point decimal number between two given numbers inside\n",
    "# the parentheses.\n",
    "\n",
    "random.uniform(-90, 90)"
   ]
  },
  {
   "cell_type": "code",
   "execution_count": 9,
   "metadata": {},
   "outputs": [],
   "source": [
    "#*****\n",
    "#6.1.4\n",
    "#*****\n",
    "\n",
    "# Import the NumPy module.\n",
    "import numpy as np"
   ]
  },
  {
   "cell_type": "code",
   "execution_count": 10,
   "metadata": {},
   "outputs": [
    {
     "data": {
      "text/plain": [
       "array([-78.62750523,  87.16775264, -29.77083736,  14.33921831,\n",
       "        61.6862839 ,  84.14513093, -22.99954504,  50.89289728,\n",
       "       -26.25344705, -26.16329417,  -7.04628131, -38.43493933,\n",
       "        44.24607148, -85.31283916,  45.70519273, -56.69044651,\n",
       "       -70.21999946,  50.38676935, -36.98428245,  89.18153098,\n",
       "        13.61945411, -29.10050975,  56.2428543 , -17.23123289,\n",
       "       -43.63961675,  -0.69622819, -40.00501971, -72.05785339,\n",
       "        25.43777392,  36.461087  ,  80.07168609,  63.40531337,\n",
       "        15.64842036,  60.09865394,  80.17057835,  31.45136106,\n",
       "        53.52485784, -31.6335446 ,  26.46780086, -76.53740538,\n",
       "       -72.04333346,  33.96734388, -44.9535087 ,  76.2173103 ,\n",
       "        29.23719226, -10.08507022,  71.13703137, -72.27103947,\n",
       "       -52.47305829, -29.9468072 ])"
      ]
     },
     "execution_count": 10,
     "metadata": {},
     "output_type": "execute_result"
    }
   ],
   "source": [
    "#*****\n",
    "#6.1.4\n",
    "#*****\n",
    "\n",
    "np.random.uniform(-90.000, 90.000, size=50)"
   ]
  },
  {
   "cell_type": "code",
   "execution_count": 13,
   "metadata": {},
   "outputs": [],
   "source": [
    "#*****\n",
    "#6.1.4\n",
    "#*****\n",
    "\n",
    "# Import timeit.\n",
    "import timeit"
   ]
  },
  {
   "cell_type": "code",
   "execution_count": 14,
   "metadata": {},
   "outputs": [
    {
     "name": "stdout",
     "output_type": "stream",
     "text": [
      "12.4 µs ± 82.3 ns per loop (mean ± std. dev. of 7 runs, 100000 loops each)\n"
     ]
    }
   ],
   "source": [
    "#*****\n",
    "#6.1.4\n",
    "#*****\n",
    "\n",
    "%timeit np.random.uniform(-90.000, 90.000, size=1500)"
   ]
  },
  {
   "cell_type": "code",
   "execution_count": 15,
   "metadata": {},
   "outputs": [
    {
     "name": "stdout",
     "output_type": "stream",
     "text": [
      "1.48 ms ± 18.4 µs per loop (mean ± std. dev. of 7 runs, 1000 loops each)\n"
     ]
    }
   ],
   "source": [
    "#*****\n",
    "#6.1.4\n",
    "#*****\n",
    "\n",
    "def latitudes(size):\n",
    "    latitudes = []\n",
    "    x = 0\n",
    "    while x < (size):\n",
    "        random_lat = random.randint(-90, 90) + random.random()\n",
    "        latitudes.append(random_lat)\n",
    "        x += 1\n",
    "    return latitudes\n",
    "# Call the function with 1500.\n",
    "%timeit latitudes(1500)"
   ]
  }
 ],
 "metadata": {
  "kernelspec": {
   "display_name": "PythonData",
   "language": "python",
   "name": "pythondata"
  },
  "language_info": {
   "codemirror_mode": {
    "name": "ipython",
    "version": 3
   },
   "file_extension": ".py",
   "mimetype": "text/x-python",
   "name": "python",
   "nbconvert_exporter": "python",
   "pygments_lexer": "ipython3",
   "version": "3.7.9"
  }
 },
 "nbformat": 4,
 "nbformat_minor": 4
}
