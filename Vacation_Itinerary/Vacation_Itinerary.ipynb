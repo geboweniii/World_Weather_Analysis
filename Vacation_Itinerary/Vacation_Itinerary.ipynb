{
 "cells": [
  {
   "cell_type": "markdown",
   "metadata": {},
   "source": [
    "## Deliverable 3. Create a Travel Itinerary Map."
   ]
  },
  {
   "cell_type": "code",
   "execution_count": 1,
   "metadata": {},
   "outputs": [],
   "source": [
    "#This ipynb file utilizes the data collected into the WeatherPy_vacation.csv file created in the two previous\n",
    "#segments of the module 6 challenge. This ipynb file collects that data and, I guess, re-creates the map\n",
    "#from the Vacation_Search.ipynb. Then from there, the programmer hardcodes 4 locations into the program for use\n",
    "#use as starting, mid, and end points for the vacation. You know, you have to wonder why they didn't put user prompts\n",
    "#into this code for that kid of data collection. I mean, we already did user inputs in the Vacation_Search.ipynb\n",
    "#file, right? I mean, why not use the same method again? Makes sense. Oh well."
   ]
  },
  {
   "cell_type": "code",
   "execution_count": 2,
   "metadata": {},
   "outputs": [],
   "source": [
    "#*****************************************************************************\n",
    "#6.5.2 - Create Heatmaps for Weather Parameters\n",
    "#*****************************************************************************\n",
    "#See section 6.5.2 - Create Heatmaps for Weather Parameters for the source of this section of code. This section of\n",
    "#code will get the data from the csv file and dump it into a dataframe.\n",
    "\n",
    "# Dependencies and Setup\n",
    "import pandas as pd\n",
    "import requests\n",
    "import gmaps\n",
    "\n",
    "# Import API key\n",
    "from config import g_key\n",
    "\n",
    "# Configure gmaps\n",
    "gmaps.configure(api_key=g_key)"
   ]
  },
  {
   "cell_type": "code",
   "execution_count": 3,
   "metadata": {},
   "outputs": [
    {
     "data": {
      "text/html": [
       "<div>\n",
       "<style scoped>\n",
       "    .dataframe tbody tr th:only-of-type {\n",
       "        vertical-align: middle;\n",
       "    }\n",
       "\n",
       "    .dataframe tbody tr th {\n",
       "        vertical-align: top;\n",
       "    }\n",
       "\n",
       "    .dataframe thead th {\n",
       "        text-align: right;\n",
       "    }\n",
       "</style>\n",
       "<table border=\"1\" class=\"dataframe\">\n",
       "  <thead>\n",
       "    <tr style=\"text-align: right;\">\n",
       "      <th></th>\n",
       "      <th>City_ID</th>\n",
       "      <th>City</th>\n",
       "      <th>Country</th>\n",
       "      <th>Max Temp</th>\n",
       "      <th>Current Description</th>\n",
       "      <th>Lat</th>\n",
       "      <th>Lng</th>\n",
       "      <th>Hotel Name</th>\n",
       "    </tr>\n",
       "  </thead>\n",
       "  <tbody>\n",
       "    <tr>\n",
       "      <th>0</th>\n",
       "      <td>1</td>\n",
       "      <td>Pemangkat</td>\n",
       "      <td>ID</td>\n",
       "      <td>77.41</td>\n",
       "      <td>overcast clouds</td>\n",
       "      <td>1.1667</td>\n",
       "      <td>108.9667</td>\n",
       "      <td>Ramah Kost KITA</td>\n",
       "    </tr>\n",
       "    <tr>\n",
       "      <th>1</th>\n",
       "      <td>3</td>\n",
       "      <td>Pangai</td>\n",
       "      <td>TO</td>\n",
       "      <td>78.91</td>\n",
       "      <td>broken clouds</td>\n",
       "      <td>-19.8000</td>\n",
       "      <td>-174.3500</td>\n",
       "      <td>Ha'apai Beach Resort</td>\n",
       "    </tr>\n",
       "    <tr>\n",
       "      <th>2</th>\n",
       "      <td>4</td>\n",
       "      <td>Rikitea</td>\n",
       "      <td>PF</td>\n",
       "      <td>76.95</td>\n",
       "      <td>overcast clouds</td>\n",
       "      <td>-23.1203</td>\n",
       "      <td>-134.9692</td>\n",
       "      <td>Pension Maro'i</td>\n",
       "    </tr>\n",
       "    <tr>\n",
       "      <th>3</th>\n",
       "      <td>8</td>\n",
       "      <td>San Marcos De Colon</td>\n",
       "      <td>HN</td>\n",
       "      <td>89.33</td>\n",
       "      <td>scattered clouds</td>\n",
       "      <td>13.4333</td>\n",
       "      <td>-86.8000</td>\n",
       "      <td>Hotel Colonial</td>\n",
       "    </tr>\n",
       "    <tr>\n",
       "      <th>4</th>\n",
       "      <td>13</td>\n",
       "      <td>Pemba</td>\n",
       "      <td>MZ</td>\n",
       "      <td>75.45</td>\n",
       "      <td>clear sky</td>\n",
       "      <td>-12.9740</td>\n",
       "      <td>40.5178</td>\n",
       "      <td>Guesthouse Samotina</td>\n",
       "    </tr>\n",
       "  </tbody>\n",
       "</table>\n",
       "</div>"
      ],
      "text/plain": [
       "   City_ID                 City Country  Max Temp Current Description  \\\n",
       "0        1            Pemangkat      ID     77.41     overcast clouds   \n",
       "1        3               Pangai      TO     78.91       broken clouds   \n",
       "2        4              Rikitea      PF     76.95     overcast clouds   \n",
       "3        8  San Marcos De Colon      HN     89.33    scattered clouds   \n",
       "4       13                Pemba      MZ     75.45           clear sky   \n",
       "\n",
       "       Lat       Lng            Hotel Name  \n",
       "0   1.1667  108.9667       Ramah Kost KITA  \n",
       "1 -19.8000 -174.3500  Ha'apai Beach Resort  \n",
       "2 -23.1203 -134.9692        Pension Maro'i  \n",
       "3  13.4333  -86.8000        Hotel Colonial  \n",
       "4 -12.9740   40.5178   Guesthouse Samotina  "
      ]
     },
     "execution_count": 3,
     "metadata": {},
     "output_type": "execute_result"
    }
   ],
   "source": [
    "#*******\n",
    "#6.5.2\n",
    "#*******\n",
    "# 1. Read the WeatherPy_vacation.csv into a DataFrame.\n",
    "vacation_df = pd.read_csv(\"../Vacation_Search/WeatherPy_vacation.csv\")\n",
    "vacation_df.head()"
   ]
  },
  {
   "cell_type": "code",
   "execution_count": 4,
   "metadata": {},
   "outputs": [],
   "source": [
    "#*******\n",
    "#6.5.2\n",
    "#*******\n",
    "# 2. Using the template add the city name, the country code, the weather description and maximum temperature for the city.\n",
    "info_box_template = \"\"\"\n",
    "\n",
    "\"\"\"\n",
    "\n",
    "# 3a. Get the data from each row and add it to the formatting template and store the data in a list.\n",
    "hotel_info = [info_box_template.format(**row) for index, row in vacation_df.iterrows()]\n",
    "\n",
    "# 3b. Get the latitude and longitude from each row and store in a new DataFrame.\n",
    "locations = vacation_df[[\"Lat\", \"Lng\"]]"
   ]
  },
  {
   "cell_type": "code",
   "execution_count": 5,
   "metadata": {},
   "outputs": [
    {
     "data": {
      "application/vnd.jupyter.widget-view+json": {
       "model_id": "3939227fc1114b7c8575b09b0aced795",
       "version_major": 2,
       "version_minor": 0
      },
      "text/plain": [
       "Figure(layout=FigureLayout(height='420px'))"
      ]
     },
     "metadata": {},
     "output_type": "display_data"
    }
   ],
   "source": [
    "#*******\n",
    "#6.5.2\n",
    "#*******\n",
    "# 4a. Add a marker layer for each city to the map. \n",
    "marker_layer = gmaps.marker_layer(locations, info_box_content=hotel_info)\n",
    "fig = gmaps.figure()\n",
    "fig.add_layer(marker_layer)\n",
    "\n",
    "# 4b. Display the figure\n",
    "fig"
   ]
  },
  {
   "cell_type": "code",
   "execution_count": 7,
   "metadata": {},
   "outputs": [
    {
     "name": "stdout",
     "output_type": "stream",
     "text": [
      "Where would you like your vacation to start and end? Lenoir\n",
      "What will be the first stop on your vacation? Key West\n",
      "What will be the second stop on your vacation? Dallas\n",
      "What will be the third stop on your vacation? Fortuna\n"
     ]
    }
   ],
   "source": [
    "vacay_start_end = str(input(\"Where would you like your vacation to start and end? \"))\n",
    "vacay_stop1 = str(input(\"What will be the first stop on your vacation? \"))\n",
    "vacay_stop2 = str(input(\"What will be the second stop on your vacation? \"))\n",
    "vacay_stop3 = str(input(\"What will be the third stop on your vacation? \"))"
   ]
  },
  {
   "cell_type": "code",
   "execution_count": 8,
   "metadata": {},
   "outputs": [],
   "source": [
    "# From the map above pick 4 cities and create a vacation itinerary route to travel between the four cities. \n",
    "# 5. Create DataFrames for each city by filtering the 'vacation_df' using the loc method. \n",
    "# Hint: The starting and ending city should be the same city.\n",
    "# vacation_start = vacation_df.loc[vacation_df[\"City\"] == \"Oyama\"]\n",
    "# vacation_end = vacation_df.loc[vacation_df[\"City\"] == \"Oyama\"]\n",
    "# vacation_stop1 = vacation_df.loc[vacation_df[\"City\"] == \"Nishihara\"]\n",
    "# vacation_stop2 = vacation_df.loc[vacation_df[\"City\"] == \"Katsuura\"] \n",
    "# vacation_stop3 = vacation_df.loc[vacation_df[\"City\"] == \"Shimoda\"]\n",
    "\n",
    "vacation_start = vacation_df.loc[vacation_df[\"City\"] == vacay_start_end]\n",
    "vacation_end = vacation_df.loc[vacation_df[\"City\"] == vacay_start_end]\n",
    "vacation_stop1 = vacation_df.loc[vacation_df[\"City\"] == vacay_stop1]\n",
    "vacation_stop2 = vacation_df.loc[vacation_df[\"City\"] == vacay_stop2] \n",
    "vacation_stop3 = vacation_df.loc[vacation_df[\"City\"] == vacay_stop3]"
   ]
  },
  {
   "cell_type": "code",
   "execution_count": 9,
   "metadata": {},
   "outputs": [
    {
     "name": "stdout",
     "output_type": "stream",
     "text": [
      "Start: (35.2335, -77.6497), End: (35.2335, -77.6497)\n",
      "Stop 1:      City_ID      City Country  Max Temp Current Description      Lat  \\\n",
      "151      512  Key West      US      84.2    scattered clouds  24.5557   \n",
      "\n",
      "         Lng                                   Hotel Name  \n",
      "151 -81.7826  Fairfield Inn & Suites by Marriott Key West  , Stop 2:      City_ID    City Country  Max Temp Current Description      Lat      Lng  \\\n",
      "126      443  Dallas      US     86.14       broken clouds  32.7668 -96.7836   \n",
      "\n",
      "                Hotel Name  \n",
      "126  CANVAS Hotel | Dallas  , Stop 3:     City_ID     City Country  Max Temp Current Description      Lat       Lng  \\\n",
      "78      271  Fortuna      US     80.19    scattered clouds  40.5982 -124.1573   \n",
      "\n",
      "                    Hotel Name  \n",
      "78  Super 8 by Wyndham Fortuna  \n"
     ]
    }
   ],
   "source": [
    "# 6. Get the latitude-longitude pairs as tuples from each city DataFrame using the to_numpy function and list indexing.\n",
    "start = vacation_start[\"Lat\"].to_numpy()[0], vacation_start[\"Lng\"].to_numpy()[0]\n",
    "end = vacation_end[\"Lat\"].to_numpy()[0], vacation_end[\"Lng\"].to_numpy()[0]\n",
    "print(f'Start: {start}, End: {end}')\n",
    "\n",
    "stop1 = vacation_stop1[\"Lat\"].to_numpy()[0], vacation_stop1[\"Lng\"].to_numpy()[0]\n",
    "stop2 = vacation_stop2[\"Lat\"].to_numpy()[0], vacation_stop2[\"Lng\"].to_numpy()[0]\n",
    "stop3 = vacation_stop3[\"Lat\"].to_numpy()[0], vacation_stop3[\"Lng\"].to_numpy()[0]\n",
    "print(f'Stop 1: {vacation_stop1}, Stop 2: {vacation_stop2}, Stop 3: {vacation_stop3}')"
   ]
  },
  {
   "cell_type": "code",
   "execution_count": 10,
   "metadata": {
    "scrolled": true
   },
   "outputs": [
    {
     "data": {
      "application/vnd.jupyter.widget-view+json": {
       "model_id": "8f541e18c18e49c788f1dce4d2b1ab05",
       "version_major": 2,
       "version_minor": 0
      },
      "text/plain": [
       "Figure(layout=FigureLayout(height='420px'))"
      ]
     },
     "metadata": {},
     "output_type": "display_data"
    }
   ],
   "source": [
    "# 7. Create a direction layer map using the start and end latitude-longitude pairs,\n",
    "# and stop1, stop2, and stop3 as the waypoints. The travel_mode should be \"DRIVING\", \"BICYCLING\", or \"WALKING\".\n",
    "\n",
    "fig = gmaps.figure()\n",
    "vacation_itinerary = gmaps.directions_layer(start, end, waypoints=[stop1, stop2, stop3], travel_mode='DRIVING')\n",
    "fig.add_layer(vacation_itinerary)\n",
    "fig"
   ]
  },
  {
   "cell_type": "code",
   "execution_count": 11,
   "metadata": {},
   "outputs": [
    {
     "data": {
      "text/html": [
       "<div>\n",
       "<style scoped>\n",
       "    .dataframe tbody tr th:only-of-type {\n",
       "        vertical-align: middle;\n",
       "    }\n",
       "\n",
       "    .dataframe tbody tr th {\n",
       "        vertical-align: top;\n",
       "    }\n",
       "\n",
       "    .dataframe thead th {\n",
       "        text-align: right;\n",
       "    }\n",
       "</style>\n",
       "<table border=\"1\" class=\"dataframe\">\n",
       "  <thead>\n",
       "    <tr style=\"text-align: right;\">\n",
       "      <th></th>\n",
       "      <th>City_ID</th>\n",
       "      <th>City</th>\n",
       "      <th>Country</th>\n",
       "      <th>Max Temp</th>\n",
       "      <th>Current Description</th>\n",
       "      <th>Lat</th>\n",
       "      <th>Lng</th>\n",
       "      <th>Hotel Name</th>\n",
       "    </tr>\n",
       "  </thead>\n",
       "  <tbody>\n",
       "    <tr>\n",
       "      <th>0</th>\n",
       "      <td>497</td>\n",
       "      <td>Lenoir</td>\n",
       "      <td>US</td>\n",
       "      <td>87.93</td>\n",
       "      <td>broken clouds</td>\n",
       "      <td>35.2335</td>\n",
       "      <td>-77.6497</td>\n",
       "      <td>Holiday Inn Express &amp; Suites Kinston, an IHG H...</td>\n",
       "    </tr>\n",
       "    <tr>\n",
       "      <th>1</th>\n",
       "      <td>512</td>\n",
       "      <td>Key West</td>\n",
       "      <td>US</td>\n",
       "      <td>84.20</td>\n",
       "      <td>scattered clouds</td>\n",
       "      <td>24.5557</td>\n",
       "      <td>-81.7826</td>\n",
       "      <td>Fairfield Inn &amp; Suites by Marriott Key West</td>\n",
       "    </tr>\n",
       "    <tr>\n",
       "      <th>2</th>\n",
       "      <td>443</td>\n",
       "      <td>Dallas</td>\n",
       "      <td>US</td>\n",
       "      <td>86.14</td>\n",
       "      <td>broken clouds</td>\n",
       "      <td>32.7668</td>\n",
       "      <td>-96.7836</td>\n",
       "      <td>CANVAS Hotel | Dallas</td>\n",
       "    </tr>\n",
       "    <tr>\n",
       "      <th>3</th>\n",
       "      <td>271</td>\n",
       "      <td>Fortuna</td>\n",
       "      <td>US</td>\n",
       "      <td>80.19</td>\n",
       "      <td>scattered clouds</td>\n",
       "      <td>40.5982</td>\n",
       "      <td>-124.1573</td>\n",
       "      <td>Super 8 by Wyndham Fortuna</td>\n",
       "    </tr>\n",
       "  </tbody>\n",
       "</table>\n",
       "</div>"
      ],
      "text/plain": [
       "   City_ID      City Country  Max Temp Current Description      Lat       Lng  \\\n",
       "0      497    Lenoir      US     87.93       broken clouds  35.2335  -77.6497   \n",
       "1      512  Key West      US     84.20    scattered clouds  24.5557  -81.7826   \n",
       "2      443    Dallas      US     86.14       broken clouds  32.7668  -96.7836   \n",
       "3      271   Fortuna      US     80.19    scattered clouds  40.5982 -124.1573   \n",
       "\n",
       "                                          Hotel Name  \n",
       "0  Holiday Inn Express & Suites Kinston, an IHG H...  \n",
       "1        Fairfield Inn & Suites by Marriott Key West  \n",
       "2                              CANVAS Hotel | Dallas  \n",
       "3                         Super 8 by Wyndham Fortuna  "
      ]
     },
     "execution_count": 11,
     "metadata": {},
     "output_type": "execute_result"
    }
   ],
   "source": [
    "# 8. To create a marker layer map between the four cities.\n",
    "#  Combine the four city DataFrames into one DataFrame using the concat() function.\n",
    "itinerary_df = pd.concat([vacation_start, vacation_stop1, vacation_stop2, vacation_stop3], ignore_index=True)\n",
    "itinerary_df"
   ]
  },
  {
   "cell_type": "code",
   "execution_count": 12,
   "metadata": {},
   "outputs": [],
   "source": [
    "# 9 Using the template add city name, the country code, the weather description and maximum temperature for the city. \n",
    "info_box_template = \"\"\"\n",
    "<dl>\n",
    "<dt>City</dt><dd>{City}</dd>\n",
    "<dt>Country</dt><dd>{Country}</dd>\n",
    "<dt>Current Weather</dt><dd>{Current Description} and {Max Temp} °F</dd>\n",
    "</dl>\n",
    "\"\"\"\n",
    "\n",
    "# 10a Get the data from each row and add it to the formatting template and store the data in a list.\n",
    "hotel_info = [info_box_template.format(**row) for index, row in itinerary_df.iterrows()]\n",
    "\n",
    "# 10b. Get the latitude and longitude from each row and store in a new DataFrame.\n",
    "locations = itinerary_df[[\"Lat\", \"Lng\"]]"
   ]
  },
  {
   "cell_type": "code",
   "execution_count": 13,
   "metadata": {},
   "outputs": [
    {
     "data": {
      "application/vnd.jupyter.widget-view+json": {
       "model_id": "765de9a8b42040f7b30d9505b1ae21ea",
       "version_major": 2,
       "version_minor": 0
      },
      "text/plain": [
       "Figure(layout=FigureLayout(height='420px'))"
      ]
     },
     "metadata": {},
     "output_type": "display_data"
    }
   ],
   "source": [
    "# 11a. Add a marker layer for each city to the map. \n",
    "marker_layer = gmaps.marker_layer(locations, info_box_content=hotel_info)\n",
    "fig = gmaps.figure()\n",
    "fig.add_layer(marker_layer)\n",
    "\n",
    "# 11b. Display the figure\n",
    "fig"
   ]
  }
 ],
 "metadata": {
  "kernelspec": {
   "display_name": "PythonData",
   "language": "python",
   "name": "pythondata"
  },
  "language_info": {
   "codemirror_mode": {
    "name": "ipython",
    "version": 3
   },
   "file_extension": ".py",
   "mimetype": "text/x-python",
   "name": "python",
   "nbconvert_exporter": "python",
   "pygments_lexer": "ipython3",
   "version": "3.7.9"
  },
  "latex_envs": {
   "LaTeX_envs_menu_present": true,
   "autoclose": false,
   "autocomplete": true,
   "bibliofile": "biblio.bib",
   "cite_by": "apalike",
   "current_citInitial": 1,
   "eqLabelWithNumbers": true,
   "eqNumInitial": 1,
   "hotkeys": {
    "equation": "Ctrl-E",
    "itemize": "Ctrl-I"
   },
   "labels_anchors": false,
   "latex_user_defs": false,
   "report_style_numbering": false,
   "user_envs_cfg": false
  }
 },
 "nbformat": 4,
 "nbformat_minor": 2
}
